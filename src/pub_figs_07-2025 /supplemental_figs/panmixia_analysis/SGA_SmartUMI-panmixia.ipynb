{
 "cells": [
  {
   "cell_type": "markdown",
   "id": "ddac5035",
   "metadata": {},
   "source": [
    "## Difference in disatnce between methods\n",
    "\n",
    "To understand whether smart UMI and SGA are similar enough in their outputs, we can compare the pairwise distance matrix from trees. Our null hypothesis is that SGA and SmrtUMI should not have a significant difference between their distances. We are expecting a small difference in median distances between the two methods.\n",
    "\n",
    "In the file naming convention, columns/indexes starting with 'K' are SGA. Rest are Smrt-UMI."
   ]
  },
  {
   "cell_type": "code",
   "execution_count": null,
   "id": "f4781b7f",
   "metadata": {},
   "outputs": [],
   "source": [
    "import pandas as pd\n",
    "import numpy as np\n",
    "import scipy.stats as stats\n",
    "from scipy.stats import mannwhitneyu\n",
    "import os\n",
    "import matplotlib.pyplot as plt\n",
    "\n",
    "import scipy\n",
    "\n",
    "np.set_printoptions(legacy='1.25')"
   ]
  },
  {
   "cell_type": "code",
   "execution_count": null,
   "id": "4016d6e5",
   "metadata": {},
   "outputs": [],
   "source": [
    "filepath = \"./data/1HB3_d0_NT_matrix.csv\" # update filename\n",
    "\n",
    "# reading in distance matrix\n",
    "distance_matrix = pd.read_csv(filepath, index_col = 0)"
   ]
  },
  {
   "cell_type": "code",
   "execution_count": null,
   "id": "f5b91184",
   "metadata": {},
   "outputs": [],
   "source": [
    "def compare_distances(filepath):\n",
    "    # reading in distance matrix\n",
    "    distance_matrix = pd.read_csv(filepath, index_col = 0)\n",
    "    \n",
    "    # Separate SGA and SmrtUMI names\n",
    "    sga = distance_matrix.columns[distance_matrix.columns.str.startswith('K')]\n",
    "    smrt = distance_matrix.columns[~distance_matrix.columns.str.startswith('K')]\n",
    "\n",
    "    # getting DFs\n",
    "    sga = distance_matrix.loc[sga, sga]\n",
    "    smrt = distance_matrix.loc[smrt, smrt]\n",
    "\n",
    "    # extracting distances\n",
    "    upper_tri = np.triu(sga, k=1).flatten()\n",
    "    sga_vals = upper_tri[upper_tri != 0]\n",
    "\n",
    "    upper_tri = np.triu(smrt, k=1).flatten()\n",
    "    smrt_vals = upper_tri[upper_tri != 0]\n",
    "    \n",
    "    # performing Mann Whitney U test\n",
    "    stat, p = mannwhitneyu(sga_vals, smrt_vals, method=\"auto\")\n",
    "    med_smrt = np.median(smrt_vals)\n",
    "    med_sga = np.median(sga_vals)\n",
    "    \n",
    "    return(stat, p, med_smrt, med_sga)"
   ]
  },
  {
   "cell_type": "code",
   "execution_count": null,
   "id": "a4495254",
   "metadata": {},
   "outputs": [],
   "source": [
    "# Retrieve all files from a directory containing bootstrapped tree distances\n",
    "\n",
    "all_files = os.listdir('./09_24_panmixia_matrices/')\n",
    "all_files = ['./09_24_panmixia_matrices/'+file for file in all_files]"
   ]
  },
  {
   "cell_type": "code",
   "execution_count": null,
   "id": "3143c039",
   "metadata": {},
   "outputs": [],
   "source": [
    "ps = []\n",
    "# get distance statistics for each file\n",
    "for file in all_files:\n",
    "    stat, p, med_smrt, med_sga = compare_distances(file)\n",
    "#     print(compare_distances(file))\n",
    "    ps.append(p)"
   ]
  },
  {
   "cell_type": "code",
   "execution_count": null,
   "id": "20a9ebcc",
   "metadata": {
    "scrolled": true
   },
   "outputs": [],
   "source": [
    "# repeat the process on all files using T-Test (Ind) instead\n",
    "p_ttest = []\n",
    "\n",
    "for i in range(len(all_files)):\n",
    "    filepath = all_files[i]\n",
    "    # reading in distance matrix\n",
    "    distance_matrix = pd.read_csv(filepath, index_col = 0)\n",
    "\n",
    "    # Separate SGA and SmrtUMI names\n",
    "    sga = distance_matrix.columns[distance_matrix.columns.str.startswith('K')]\n",
    "    smrt = distance_matrix.columns[~distance_matrix.columns.str.startswith('K')]\n",
    "\n",
    "    # getting DFs\n",
    "    sga = distance_matrix.loc[sga, sga]\n",
    "    smrt = distance_matrix.loc[smrt, smrt]\n",
    "\n",
    "    # extracting distances\n",
    "    upper_tri = np.triu(sga, k=1).flatten()\n",
    "    sga_vals = upper_tri[upper_tri != 0]\n",
    "\n",
    "    upper_tri = np.triu(smrt, k=1).flatten()\n",
    "    smrt_vals = upper_tri[upper_tri != 0]\n",
    "\n",
    "    # stat, p = mannwhitneyu(sga_vals, smrt_vals, method=\"auto\")\n",
    "    med_smrt = np.median(smrt_vals)\n",
    "    med_sga = np.median(sga_vals)\n",
    "\n",
    "    print(\"SGA:\", pd.DataFrame(sga_vals).describe())\n",
    "    print('----------------')\n",
    "    print(\"SMRT:\", pd.DataFrame(smrt_vals).describe())\n",
    "\n",
    "    print(stats.ttest_ind(sga_vals, smrt_vals))\n",
    "\n",
    "    stat, p = stats.ttest_ind(sga_vals, smrt_vals)\n",
    "    p_ttest.append(p)"
   ]
  },
  {
   "cell_type": "code",
   "execution_count": null,
   "id": "1dd5feca",
   "metadata": {},
   "outputs": [],
   "source": [
    "# Performing multipletest adjustments\n",
    "import statsmodels.api as sm\n",
    "from statsmodels.stats.multitest import multipletests\n",
    "\n",
    "p_adj = multipletests(p_ttest, method='fdr_bh')[1]\n",
    "p_adj[p_adj > 0.05]"
   ]
  },
  {
   "cell_type": "code",
   "execution_count": null,
   "id": "f6cf2936",
   "metadata": {},
   "outputs": [],
   "source": [
    "sample_names = [f.split('/')[-1].replace('.csv', '') for f in all_files]\n",
    "\n",
    "ttest_df = pd.DataFrame(sample_names, columns=['Sample'])\n",
    "ttest_df['p.adj'] = p_adj\n",
    "\n",
    "ttest_df['intermingled(p>0.05)'] = ttest_df['p.adj'] > 0.05\n",
    "\n",
    "ttest_df['intermingled(p>1E-4)'] = ttest_df['p.adj'] > 0.0001"
   ]
  },
  {
   "cell_type": "code",
   "execution_count": null,
   "id": "d77de01d",
   "metadata": {},
   "outputs": [],
   "source": [
    "ttest_df"
   ]
  },
  {
   "cell_type": "code",
   "execution_count": null,
   "id": "766fcf26",
   "metadata": {},
   "outputs": [],
   "source": [
    "# Save file as CSV\n",
    "#ttest_df.to_csv('09_24_panmixia-ttest.csv', index=False)"
   ]
  }
 ],
 "metadata": {
  "kernelspec": {
   "display_name": "Python 3 (ipykernel)",
   "language": "python",
   "name": "python3"
  },
  "language_info": {
   "codemirror_mode": {
    "name": "ipython",
    "version": 3
   },
   "file_extension": ".py",
   "mimetype": "text/x-python",
   "name": "python",
   "nbconvert_exporter": "python",
   "pygments_lexer": "ipython3",
   "version": "3.12.6"
  }
 },
 "nbformat": 4,
 "nbformat_minor": 5
}
